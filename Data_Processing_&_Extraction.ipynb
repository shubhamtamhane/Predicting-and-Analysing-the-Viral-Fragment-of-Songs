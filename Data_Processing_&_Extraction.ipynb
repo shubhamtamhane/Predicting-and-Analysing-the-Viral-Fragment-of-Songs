{
  "nbformat": 4,
  "nbformat_minor": 0,
  "metadata": {
    "colab": {
      "provenance": []
    },
    "kernelspec": {
      "name": "python3",
      "display_name": "Python 3"
    },
    "language_info": {
      "name": "python"
    }
  },
  "cells": [
    {
      "cell_type": "code",
      "execution_count": null,
      "metadata": {
        "id": "Bp78yOLfD39V"
      },
      "outputs": [],
      "source": [
        "!pip install dtw-python\n",
        "!pip install moviepy\n",
        "!pip install --upgrade moviepy\n",
        "!pip install imagehash\n",
        "!pip3 install imageio==2.4.1\n",
        "!pip install imageio-ffmpeg\n",
        "\n",
        "import pandas as pd\n",
        "import numpy as np\n",
        "import librosa\n",
        "import librosa.display\n",
        "from librosa.feature.spectral import mfcc\n",
        "import matplotlib.pyplot as plt\n",
        "import warnings\n",
        "from dtw import dtw\n",
        "import time\n",
        "import moviepy.editor as mp\n",
        "import imagehash\n",
        "from PIL import Image\n",
        "import sklearn\n",
        "import os\n",
        "warnings.filterwarnings(\"ignore\")"
      ]
    },
    {
      "cell_type": "code",
      "source": [
        "full_songs_path = '/content/drive/MyDrive/Data mining/fullsongs'\n",
        "\n",
        "short_songs_path = '/content/drive/MyDrive/Data mining/shorts'"
      ],
      "metadata": {
        "id": "KekQa5U4D8uy"
      },
      "execution_count": null,
      "outputs": []
    },
    {
      "cell_type": "code",
      "source": [
        "# find the total duration of the song clip\n",
        "def findDuration(path):\n",
        "    song = mp.AudioFileClip(path)\n",
        "    duration = song.duration\n",
        "    return duration"
      ],
      "metadata": {
        "id": "_BzK203ZD9Rk"
      },
      "execution_count": null,
      "outputs": []
    },
    {
      "cell_type": "code",
      "source": [
        "\n",
        "mfcc_df = pd.DataFrame()\n",
        "\n",
        "mfcc_names = []\n",
        "for k in range(1, 21):\n",
        "    mfcc_names.append('MFCC_' + str(k))\n",
        "\n",
        "count = 0\n",
        "\n",
        "# total number of songs\n",
        "total_songs = len(os.listdir(full_songs_path))\n",
        "\n",
        "for idx in range(total_songs):\n",
        "    print(\"Idx is \", idx)\n",
        "    \n",
        "    current_full_song = full_songs_path + \"/\" + sorted(os.listdir(full_songs_path))[idx]\n",
        "    full_dur = findDuration(current_full_song)\n",
        "    \n",
        "    print(\"current_full_song: \", current_full_song)\n",
        "    \n",
        "    current_short_song = short_songs_path + \"/\" + sorted(os.listdir(short_songs_path))[idx]\n",
        "    short_dur = findDuration(current_short_song)\n",
        "    \n",
        "    mfcc_list = []\n",
        "    mfcc_mean_list = []\n",
        "    \n",
        "    for i in range(int(full_dur - short_dur + 1)):\n",
        "        # loading song via librosa\n",
        "        full_amplitude, full_sr = librosa.load(current_full_song, offset = i, duration = short_dur)  \n",
        "\n",
        "        # calculating MFCC values\n",
        "        temp_mfcc = librosa.feature.mfcc(full_amplitude, full_sr)\n",
        "        mfcc_list.append(temp_mfcc)\n",
        "\n",
        "        # Scaling MFCC values and calculating their means\n",
        "        mfccs_transformed = sklearn.preprocessing.scale(temp_mfcc, axis=1)\n",
        "        mfccs_scaled = np.mean(mfccs_transformed.T, axis = 0)\n",
        "        mfcc_mean_list.append(mfccs_scaled) \n",
        "    \n",
        "    print(\"Creating dataframe with just mfcc means\")\n",
        "    mfcc_temp_df = pd.DataFrame(mfcc_mean_list, columns = mfcc_names)\n",
        "        \n",
        "    # loading short songs via librosa and calculating MFCC values\n",
        "    short_amplitude, short_sr = librosa.load(current_short_song, offset = 0, duration = short_dur)  \n",
        "    short_mfcc = librosa.feature.mfcc(short_amplitude, short_sr)\n",
        "    \n",
        "    # Dynamic Time Warping \n",
        "    dtw_dist_list = []\n",
        "    print(\"Finding dtw distance\")\n",
        "    for mfcc in mfcc_list:\n",
        "        \n",
        "        dist = dtw(mfcc.T, short_mfcc.T)\n",
        "        dtw_dist_list.append(dist)\n",
        "        \n",
        "    # Calculating Minimum distance\n",
        "    print(\"Minimum distance calc\")\n",
        "    min_dist = np.inf\n",
        "    for counter, i in enumerate(dtw_dist_list):\n",
        "        \n",
        "        if(i.normalizedDistance < min_dist):\n",
        "            min_dist = i.normalizedDistance\n",
        "            min_idx = counter\n",
        "    \n",
        "\n",
        "\n",
        "    for counter, i in enumerate(dtw_dist_list):\n",
        "        \n",
        "        if(i.normalizedDistance == min_dist):\n",
        "            # min_dist = i.normalizedDistance\n",
        "            print(counter)\n",
        "\n",
        "\n",
        "    target_vals = []\n",
        "    for k in range(len(mfcc_mean_list)):\n",
        "        if k == min_idx:\n",
        "            target_vals.append(1)\n",
        "        else:\n",
        "            target_vals.append(0)\n",
        "            \n",
        "    print(\"Adding target val to the dataframe\")\n",
        "    mfcc_temp_df['target'] = target_vals\n",
        "    \n",
        "    print(\"Appending to the final dataframe\")\n",
        "    mfcc_df = pd.concat([mfcc_df,mfcc_temp_df]).reset_index(drop = True)"
      ],
      "metadata": {
        "id": "40uMTXYVD9Tz"
      },
      "execution_count": null,
      "outputs": []
    },
    {
      "cell_type": "code",
      "source": [
        "mfcc_df"
      ],
      "metadata": {
        "id": "7pp7US5ID9WZ"
      },
      "execution_count": null,
      "outputs": []
    },
    {
      "cell_type": "code",
      "source": [
        "mfcc_df.to_csv('/content/drive/MyDrive/Data mining/mfcc_values_0_49.csv', index = False)"
      ],
      "metadata": {
        "id": "7ayJept1D9Z9"
      },
      "execution_count": null,
      "outputs": []
    }
  ]
}